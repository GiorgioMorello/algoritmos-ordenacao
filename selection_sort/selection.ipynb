{
 "cells": [
  {
   "cell_type": "code",
   "execution_count": 2,
   "metadata": {
    "collapsed": false,
    "jupyter": {
     "outputs_hidden": false
    },
    "pycharm": {
     "name": "#%%\n"
    }
   },
   "outputs": [],
   "source": [
    "import numpy as np"
   ]
  },
  {
   "cell_type": "code",
   "execution_count": null,
   "metadata": {
    "collapsed": false,
    "jupyter": {
     "outputs_hidden": false
    },
    "pycharm": {
     "name": "#%%\n"
    }
   },
   "outputs": [],
   "source": []
  },
  {
   "cell_type": "code",
   "execution_count": 10,
   "metadata": {
    "collapsed": false,
    "jupyter": {
     "outputs_hidden": false
    },
    "pycharm": {
     "name": "#%%\n"
    }
   },
   "outputs": [],
   "source": [
    "def selection_sort(vetor):\n",
    "    n = vetor.capacidade\n",
    "    \n",
    "    for i in range(n):\n",
    "         \n",
    "        # Inicializa o índice do menor valor como o valor atual de i\n",
    "        indice_menor = i\n",
    "        for j in range(i+1, n):\n",
    "            if vetor.valores[indice_menor] > vetor.valores[j]:\n",
    "                indice_menor = j   # Atualiza o índice do menor valor\n",
    "\n",
    "        \n",
    "        # Realizando as trocas dos elementos\n",
    "        temp = vetor.valores[i]\n",
    "        \n",
    "        # Coloca o valor encontrado como o menor (vetor[indice_menor]) na posição atual (vetor[i])\n",
    "        vetor.valores[i] = vetor.valores[indice_menor]\n",
    "            \n",
    "        # Coloca o valor original de vetor[i] (armazenado em 'temp') na posição de vetor[indice_menor], completando a troca\n",
    "        vetor.valores[indice_menor] = temp\n",
    "        \n",
    "        \n",
    "    return vetor"
   ]
  },
  {
   "cell_type": "code",
   "execution_count": 11,
   "metadata": {
    "collapsed": false,
    "jupyter": {
     "outputs_hidden": false
    },
    "pycharm": {
     "name": "#%%\n"
    }
   },
   "outputs": [
    {
     "name": "stdout",
     "output_type": "stream",
     "text": [
      "0 - 17\n",
      "1 - 18\n",
      "2 - 20\n",
      "3 - 24\n",
      "4 - 75\n"
     ]
    }
   ],
   "source": [
    "selection_sort(v).listar_valores()"
   ]
  },
  {
   "cell_type": "code",
   "execution_count": 5,
   "metadata": {
    "collapsed": false,
    "jupyter": {
     "outputs_hidden": false
    },
    "pycharm": {
     "name": "#%%\n"
    }
   },
   "outputs": [],
   "source": [
    "# Vetor não ordenado\n",
    "\n",
    "class VetorNaoOrdenado:\n",
    "\n",
    "    def __init__(self, capacidade):\n",
    "        self.capacidade = capacidade\n",
    "        self.ultima_pos = -1 # Iremos incrementar esse atributo a cada vez que adicionarmos um valor na array\n",
    "        self.valores = np.empty(self.capacidade, dtype=int) # Retorna um array baseado no formato e no tipo que você passar\n",
    "\n",
    "    # O(n)\n",
    "    def listar_valores(self):\n",
    "        if self.ultima_pos ==  -1:\n",
    "            print('Vetor está vazio')\n",
    "        else:\n",
    "            for i in range(self.ultima_pos+1):\n",
    "                print(i, '-', self.valores[i])\n",
    "\n",
    "\n",
    "    # O(1) - O(2), independente do valor que passarmos, o número de passos será o mesmo\n",
    "    def inserir(self, valor):\n",
    "        if self.ultima_pos == self.capacidade - 1:\n",
    "            print('capacidade maxima atingida')\n",
    "        else:\n",
    "            self.ultima_pos += 1\n",
    "            self.valores[self.ultima_pos] = valor\n",
    "            \n",
    "\n",
    "    # O(n) -> Ele vai executar linearmente de acordo com as entradas que você passar\n",
    "    def pesquisar_valor(self, valor):\n",
    "        for i in range(self.ultima_pos+1):\n",
    "            if valor == self.valores[i]:\n",
    "                return i\n",
    "        return -1\n",
    "\n",
    "\n",
    "    # O(n)\n",
    "    def excluir_valor(self, valor):\n",
    "        indice_valor = self.pesquisar_valor(valor)\n",
    "        if indice_valor != -1:\n",
    "\n",
    "            for i in range(indice_valor, self.ultima_pos):\n",
    "                self.valores[i] = self.valores[i+1]\n",
    "            self.ultima_pos -= 1\n",
    "\n",
    "        else:\n",
    "            print('Valor não encontrado')\n",
    "            return -1\n",
    "                \n"
   ]
  },
  {
   "cell_type": "code",
   "execution_count": 6,
   "metadata": {
    "collapsed": false,
    "jupyter": {
     "outputs_hidden": false
    },
    "pycharm": {
     "name": "#%%\n"
    }
   },
   "outputs": [],
   "source": [
    "v = VetorNaoOrdenado(5)\n",
    "v.inserir(24)\n",
    "v.inserir(75)\n",
    "v.inserir(17)\n",
    "v.inserir(18)\n",
    "v.inserir(20)\n"
   ]
  },
  {
   "cell_type": "code",
   "execution_count": null,
   "metadata": {
    "collapsed": false,
    "jupyter": {
     "outputs_hidden": false
    },
    "pycharm": {
     "name": "#%%\n"
    }
   },
   "outputs": [],
   "source": [
    "v.listar_valores()"
   ]
  },
  {
   "cell_type": "code",
   "execution_count": null,
   "metadata": {
    "collapsed": false,
    "jupyter": {
     "outputs_hidden": false
    },
    "pycharm": {
     "name": "#%%\n"
    }
   },
   "outputs": [],
   "source": [
    "def selection_sort(vetor):\n",
    "    n = vetor.capacidade\n",
    "    for i in range(n):\n",
    "        marcado = vetor.valores[i]\n",
    "\n",
    "        for j in range(1, n):\n",
    "\n",
    "            if vetor.valores[j] < marcado:\n",
    "                marcado = vetor.valores[j]\n",
    "\n",
    "        vetor.valores[j] = vetor.valores[j]\n",
    "        vetor.valores[i] = marcado\n",
    "    return vetor\n",
    "        \n",
    "        "
   ]
  },
  {
   "cell_type": "code",
   "execution_count": 18,
   "metadata": {
    "collapsed": false,
    "jupyter": {
     "outputs_hidden": false
    },
    "pycharm": {
     "name": "#%%\n"
    }
   },
   "outputs": [
    {
     "name": "stdout",
     "output_type": "stream",
     "text": [
      "0 - 17\n",
      "1 - 17\n",
      "2 - 17\n",
      "3 - 17\n",
      "4 - 17\n"
     ]
    }
   ],
   "source": [
    "selection_sort(v).listar_valores()"
   ]
  },
  {
   "cell_type": "code",
   "execution_count": null,
   "metadata": {
    "pycharm": {
     "name": "#%%\n"
    }
   },
   "outputs": [],
   "source": []
  }
 ],
 "metadata": {
  "kernelspec": {
   "display_name": "Python 3 (ipykernel)",
   "language": "python",
   "name": "python3"
  },
  "language_info": {
   "codemirror_mode": {
    "name": "ipython",
    "version": 3
   },
   "file_extension": ".py",
   "mimetype": "text/x-python",
   "name": "python",
   "nbconvert_exporter": "python",
   "pygments_lexer": "ipython3",
   "version": "3.11.0"
  }
 },
 "nbformat": 4,
 "nbformat_minor": 4
}
