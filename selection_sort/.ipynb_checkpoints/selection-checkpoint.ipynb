{
 "cells": [
  {
   "cell_type": "code",
   "execution_count": 1,
   "metadata": {
    "collapsed": false,
    "jupyter": {
     "outputs_hidden": false
    },
    "pycharm": {
     "name": "#%%\n"
    }
   },
   "outputs": [],
   "source": [
    "import numpy as np"
   ]
  },
  {
   "cell_type": "code",
   "execution_count": null,
   "metadata": {
    "collapsed": false,
    "jupyter": {
     "outputs_hidden": false
    },
    "pycharm": {
     "name": "#%%\n"
    }
   },
   "outputs": [],
   "source": []
  },
  {
   "cell_type": "code",
   "execution_count": 90,
   "metadata": {
    "collapsed": false,
    "jupyter": {
     "outputs_hidden": false
    },
    "pycharm": {
     "name": "#%%\n"
    }
   },
   "outputs": [],
   "source": [
    "def selection_sort(vetor):\n",
    "    n = vetor.capacidade\n",
    "    temp = 0\n",
    "    \n",
    "    for i in range(n):\n",
    "         \n",
    "        \n",
    "        menor = i\n",
    "        for j in range(i+1, n):\n",
    "            if vetor.valores[menor] > vetor.valores[j]:\n",
    "                menor = j\n",
    "\n",
    "        temp = vetor.valores[i]\n",
    "        vetor.valores[i] = vetor.valores[menor]\n",
    "        vetor.valores[menor] = temp\n",
    "        \n",
    "        \n",
    "    return vetor"
   ]
  },
  {
   "cell_type": "code",
   "execution_count": 91,
   "metadata": {
    "collapsed": false,
    "jupyter": {
     "outputs_hidden": false
    },
    "pycharm": {
     "name": "#%%\n"
    }
   },
   "outputs": [
    {
     "name": "stdout",
     "output_type": "stream",
     "text": [
      "0 - 17\n",
      "1 - 18\n",
      "2 - 20\n",
      "3 - 24\n",
      "4 - 75\n"
     ]
    }
   ],
   "source": [
    "selection_sort(v).listar_valores()"
   ]
  },
  {
   "cell_type": "code",
   "execution_count": 2,
   "metadata": {
    "collapsed": false,
    "jupyter": {
     "outputs_hidden": false
    },
    "pycharm": {
     "name": "#%%\n"
    }
   },
   "outputs": [],
   "source": [
    "# Vetor não ordenado\n",
    "\n",
    "class VetorNaoOrdenado:\n",
    "\n",
    "    def __init__(self, capacidade):\n",
    "        self.capacidade = capacidade\n",
    "        self.ultima_pos = -1 # Iremos incrementar esse atributo a cada vez que adicionarmos um valor na array\n",
    "        self.valores = np.empty(self.capacidade, dtype=int) # Retorna um array baseado no formato e no tipo que você passar\n",
    "\n",
    "    # O(n)\n",
    "    def listar_valores(self):\n",
    "        if self.ultima_pos ==  -1:\n",
    "            print('Vetor está vazio')\n",
    "        else:\n",
    "            for i in range(self.ultima_pos+1):\n",
    "                print(i, '-', self.valores[i])\n",
    "\n",
    "\n",
    "    # O(1) - O(2), independente do valor que passarmos, o número de passos será o mesmo\n",
    "    def inserir(self, valor):\n",
    "        if self.ultima_pos == self.capacidade - 1:\n",
    "            print('capacidade maxima atingida')\n",
    "        else:\n",
    "            self.ultima_pos += 1\n",
    "            self.valores[self.ultima_pos] = valor\n",
    "            \n",
    "\n",
    "    # O(n) -> Ele vai executar linearmente de acordo com as entradas que você passar\n",
    "    def pesquisar_valor(self, valor):\n",
    "        for i in range(self.ultima_pos+1):\n",
    "            if valor == self.valores[i]:\n",
    "                return i\n",
    "        return -1\n",
    "\n",
    "\n",
    "    # O(n)\n",
    "    def excluir_valor(self, valor):\n",
    "        indice_valor = self.pesquisar_valor(valor)\n",
    "        if indice_valor != -1:\n",
    "\n",
    "            for i in range(indice_valor, self.ultima_pos):\n",
    "                self.valores[i] = self.valores[i+1]\n",
    "            self.ultima_pos -= 1\n",
    "\n",
    "        else:\n",
    "            print('Valor não encontrado')\n",
    "            return -1\n",
    "                \n"
   ]
  },
  {
   "cell_type": "code",
   "execution_count": 46,
   "metadata": {
    "collapsed": false,
    "jupyter": {
     "outputs_hidden": false
    },
    "pycharm": {
     "name": "#%%\n"
    }
   },
   "outputs": [],
   "source": [
    "v = VetorNaoOrdenado(5)\n",
    "v.inserir(17)\n",
    "v.inserir(24)\n",
    "v.inserir(75)\n",
    "v.inserir(18)\n",
    "v.inserir(20)\n"
   ]
  },
  {
   "cell_type": "code",
   "execution_count": 47,
   "metadata": {
    "collapsed": false,
    "jupyter": {
     "outputs_hidden": false
    },
    "pycharm": {
     "name": "#%%\n"
    }
   },
   "outputs": [
    {
     "name": "stdout",
     "output_type": "stream",
     "text": [
      "0 - 17\n",
      "1 - 24\n",
      "2 - 75\n",
      "3 - 18\n",
      "4 - 20\n"
     ]
    }
   ],
   "source": [
    "v.listar_valores()"
   ]
  },
  {
   "cell_type": "code",
   "execution_count": 48,
   "metadata": {
    "collapsed": false,
    "jupyter": {
     "outputs_hidden": false
    },
    "pycharm": {
     "name": "#%%\n"
    }
   },
   "outputs": [],
   "source": [
    "def selection_sort(vetor):\n",
    "    n = vetor.capacidade\n",
    "\n",
    "    for i in range(n):\n",
    "        menor = i\n",
    "        for j in range(i, n - i -1):\n",
    "            if vetor.valores[menor] > vetor.valores[j+1]:\n",
    "                menor = j\n",
    "                \n",
    "        temp = vetor.valores[menor]\n",
    "        vetor.valores[menor] = vetor.valores[j+1] \n",
    "        vetor.valores[j+1] = temp\n",
    "\n",
    "    return vetor"
   ]
  },
  {
   "cell_type": "code",
   "execution_count": 49,
   "metadata": {
    "collapsed": false,
    "jupyter": {
     "outputs_hidden": false
    },
    "pycharm": {
     "name": "#%%\n"
    }
   },
   "outputs": [
    {
     "name": "stdout",
     "output_type": "stream",
     "text": [
      "0 - 20\n",
      "1 - 24\n",
      "2 - 75\n",
      "3 - 17\n",
      "4 - 18\n"
     ]
    }
   ],
   "source": [
    "selection_sort(v).listar_valores()"
   ]
  },
  {
   "cell_type": "code",
   "execution_count": null,
   "metadata": {
    "pycharm": {
     "name": "#%%\n"
    }
   },
   "outputs": [],
   "source": []
  }
 ],
 "metadata": {
  "kernelspec": {
   "display_name": "Python 3 (ipykernel)",
   "language": "python",
   "name": "python3"
  },
  "language_info": {
   "codemirror_mode": {
    "name": "ipython",
    "version": 3
   },
   "file_extension": ".py",
   "mimetype": "text/x-python",
   "name": "python",
   "nbconvert_exporter": "python",
   "pygments_lexer": "ipython3",
   "version": "3.11.0"
  }
 },
 "nbformat": 4,
 "nbformat_minor": 4
}
