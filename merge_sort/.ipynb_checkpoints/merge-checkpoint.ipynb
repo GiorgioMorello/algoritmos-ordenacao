{
 "cells": [
  {
   "cell_type": "code",
   "execution_count": 1,
   "metadata": {
    "pycharm": {
     "is_executing": true,
     "name": "#%%\n"
    }
   },
   "outputs": [],
   "source": [
    "import numpy as np"
   ]
  },
  {
   "cell_type": "code",
   "execution_count": null,
   "metadata": {
    "pycharm": {
     "name": "#%%\n"
    }
   },
   "outputs": [],
   "source": []
  },
  {
   "cell_type": "code",
   "execution_count": null,
   "metadata": {
    "collapsed": false,
    "jupyter": {
     "outputs_hidden": false
    },
    "pycharm": {
     "name": "#%%\n"
    }
   },
   "outputs": [],
   "source": [
    "def merge_sort(vetor):\n",
    "    if len(vetor) > 1:  # Critério de parada: o vetor tem um ou nenhum elemento \n",
    "        \n",
    "        mid = len(vetor) // 2 # Definindo o índice do meio\n",
    "        left_half = vetor[:mid].copy() # Cria uma cópia da primeira metade do vetor\n",
    "        right_half = vetor[mid:].copy() # Cria uma cópia da segunda metade do vetor\n",
    "\n",
    "         # Ordena as duas metades recursivamente \n",
    "        merge_sort(left_half)\n",
    "        merge_sort(right_half)\n",
    "\n",
    "        # Inicializa os índices para as partes esquerda, direita e para o vetor original\n",
    "        i = j = k = 0\n",
    "\n",
    "         \n",
    "        while i < len(left_half) and j < len(right_half):\n",
    "            if left_half[i] < right_half[j]: # Se o elemento da esquerda for menor\n",
    "                vetor[k] = left_half[i] # Coloca o elemento da esquerda no vetor\n",
    "                i += 1\n",
    "                \n",
    "            else:\n",
    "                vetor[k] = right_half[j] # Caso contrário, coloca o elemento da direita no vetor\n",
    "                j += 1\n",
    "            k += 1 # Avança uma posição no vetor original\n",
    "\n",
    "         \n",
    "        # Se ainda houver elementos na metade esquerda, coloca-os no vetor   \n",
    "        while i < len(left_half):\n",
    "            vetor[k] = left_half[i]\n",
    "            i += 1\n",
    "            k += 1\n",
    "\n",
    "        \n",
    "        # Se ainda houver elementos na metade direita, coloca-os no vetor\n",
    "        while j < len(right_half):\n",
    "            vetor[k] = right_half[j]\n",
    "            j += 1\n",
    "            k += 1\n",
    "\n",
    "    return vetor\n",
    "        "
   ]
  },
  {
   "cell_type": "code",
   "execution_count": null,
   "metadata": {
    "collapsed": false,
    "jupyter": {
     "outputs_hidden": false
    },
    "pycharm": {
     "name": "#%%\n"
    }
   },
   "outputs": [],
   "source": [
    "v = merge_sort(np.array([10, 9, 3, 7, 5, 12, 2, 1, 8, 4]))"
   ]
  },
  {
   "cell_type": "code",
   "execution_count": 67,
   "metadata": {
    "pycharm": {
     "name": "#%%\n"
    }
   },
   "outputs": [
    {
     "name": "stdout",
     "output_type": "stream",
     "text": [
      "[ 1  2  3  4  5  7  8  9 10 12]\n"
     ]
    }
   ],
   "source": [
    "print(v)"
   ]
  },
  {
   "cell_type": "code",
   "execution_count": 3,
   "metadata": {
    "pycharm": {
     "name": "#%%\n"
    }
   },
   "outputs": [],
   "source": []
  },
  {
   "cell_type": "code",
   "execution_count": 4,
   "metadata": {
    "pycharm": {
     "name": "#%%\n"
    }
   },
   "outputs": [],
   "source": [
    "\n",
    "v = VetorNaoOrdenado(5)\n",
    "v.inserir(17)\n",
    "v.inserir(24)\n",
    "v.inserir(75)\n",
    "v.inserir(18)\n",
    "v.inserir(20)"
   ]
  },
  {
   "cell_type": "code",
   "execution_count": 35,
   "metadata": {
    "pycharm": {
     "name": "#%%\n"
    }
   },
   "outputs": [],
   "source": [
    "def merge_sort(vetor):\n",
    "    if len(vetor) > 1:\n",
    "        half = len(vetor) // 2\n",
    "        left_half = vetor[:half].copy()\n",
    "        right_half = vetor[half:].copy()\n",
    "    \n",
    "        merge_sort(left_half)\n",
    "        merge_sort(right_half)\n",
    "\n",
    "        i = j = k = 0\n",
    "\n",
    "        while i < len(left_half) and j < len(right_half):\n",
    "            if left_half[i] > right_half[j]:\n",
    "                vetor[k] = right_half[j]\n",
    "                j += 1\n",
    "            else:\n",
    "                vetor[k] = left_half[i]\n",
    "                i += 1\n",
    "                \n",
    "            k += 1\n",
    "\n",
    "        while i < len(left_half):\n",
    "            vetor[k] = left_half[i]\n",
    "            i += 1\n",
    "            k+=1\n",
    "\n",
    "        while j < len(right_half):\n",
    "            vetor[k] = right_half[j]\n",
    "            j+=1\n",
    "            k+=1\n",
    "\n",
    "    return vetor"
   ]
  },
  {
   "cell_type": "code",
   "execution_count": 37,
   "metadata": {
    "pycharm": {
     "name": "#%%\n"
    }
   },
   "outputs": [
    {
     "data": {
      "text/plain": [
       "array([1, 2, 3, 4, 5, 6])"
      ]
     },
     "execution_count": 37,
     "metadata": {},
     "output_type": "execute_result"
    }
   ],
   "source": [
    "merge_sort(np.array([6,5,4,3,2,1]))"
   ]
  },
  {
   "cell_type": "code",
   "execution_count": null,
   "metadata": {
    "pycharm": {
     "name": "#%%\n"
    }
   },
   "outputs": [],
   "source": []
  },
  {
   "cell_type": "code",
   "execution_count": null,
   "metadata": {
    "pycharm": {
     "name": "#%%\n"
    }
   },
   "outputs": [],
   "source": []
  }
 ],
 "metadata": {
  "kernelspec": {
   "display_name": "Python 3 (ipykernel)",
   "language": "python",
   "name": "python3"
  },
  "language_info": {
   "codemirror_mode": {
    "name": "ipython",
    "version": 3
   },
   "file_extension": ".py",
   "mimetype": "text/x-python",
   "name": "python",
   "nbconvert_exporter": "python",
   "pygments_lexer": "ipython3",
   "version": "3.11.0"
  }
 },
 "nbformat": 4,
 "nbformat_minor": 4
}
