{
 "cells": [
  {
   "cell_type": "code",
   "execution_count": 1,
   "metadata": {
    "pycharm": {
     "is_executing": true,
     "name": "#%%\n"
    }
   },
   "outputs": [],
   "source": [
    "import numpy as np"
   ]
  },
  {
   "cell_type": "code",
   "execution_count": 111,
   "metadata": {
    "pycharm": {
     "name": "#%%\n"
    }
   },
   "outputs": [
    {
     "name": "stdout",
     "output_type": "stream",
     "text": [
      "2\n"
     ]
    }
   ],
   "source": []
  },
  {
   "cell_type": "code",
   "execution_count": 1,
   "metadata": {
    "collapsed": false,
    "jupyter": {
     "outputs_hidden": false
    },
    "pycharm": {
     "name": "#%%\n"
    }
   },
   "outputs": [],
   "source": [
    "# Ex de um vetor com 5 elementos. Na primeira rodada é o intervalo é de 2, na segunda rodada o intervalo tem que ser de 1\n",
    "\n",
    "def shell_sort(vetor):\n",
    "    intervalo = vetor.capacidade // 2 # Define o intervalo inicial, começando pela metade do tamanho do vetor\n",
    "\n",
    "    \n",
    "    # Enquanto o intervalo for maior que zero, continua o processo de ordenação\n",
    "    while intervalo > 0:\n",
    "        \n",
    "        for i in range(intervalo, vetor.capacidade): # Loop para iterar sobre os elementos do vetor começando pelo índice do intervalo\n",
    "            \n",
    "            temp = vetor.valores[i] \n",
    "            j = i\n",
    "\n",
    "            # Compara os elementos à distância do intervalo e move os elementos maiores para a direita\n",
    "            while j >= intervalo and vetor.valores[j - intervalo] > temp:\n",
    "                \n",
    "                vetor.valores[j] = vetor.valores[j - intervalo] # Desloca o elemento maior\n",
    "                j -= intervalo\n",
    "                \n",
    "\n",
    "            # Coloca o valor armazenado na posição correta\n",
    "            vetor.valores[j] = temp\n",
    "\n",
    "        # Reduz o intervalo pela metade a cada iteração\n",
    "        intervalo //= 2\n",
    "    return vetor"
   ]
  },
  {
   "cell_type": "code",
   "execution_count": 2,
   "metadata": {
    "collapsed": false,
    "jupyter": {
     "outputs_hidden": false
    },
    "pycharm": {
     "name": "#%%\n"
    }
   },
   "outputs": [
    {
     "ename": "NameError",
     "evalue": "name 'v' is not defined",
     "output_type": "error",
     "traceback": [
      "\u001b[1;31m---------------------------------------------------------------------------\u001b[0m",
      "\u001b[1;31mNameError\u001b[0m                                 Traceback (most recent call last)",
      "Cell \u001b[1;32mIn[2], line 1\u001b[0m\n\u001b[1;32m----> 1\u001b[0m shell_sort(\u001b[43mv\u001b[49m)\u001b[38;5;241m.\u001b[39mlistar_valores()\n",
      "\u001b[1;31mNameError\u001b[0m: name 'v' is not defined"
     ]
    }
   ],
   "source": [
    "shell_sort(v).listar_valores()"
   ]
  },
  {
   "cell_type": "code",
   "execution_count": null,
   "metadata": {
    "collapsed": false,
    "jupyter": {
     "outputs_hidden": false
    },
    "pycharm": {
     "name": "#%%\n"
    }
   },
   "outputs": [],
   "source": [
    "v.listar_valores()\n"
   ]
  },
  {
   "cell_type": "code",
   "execution_count": null,
   "metadata": {
    "collapsed": false,
    "jupyter": {
     "outputs_hidden": false
    },
    "pycharm": {
     "name": "#%%\n"
    }
   },
   "outputs": [],
   "source": []
  },
  {
   "cell_type": "code",
   "execution_count": 2,
   "metadata": {
    "collapsed": false,
    "jupyter": {
     "outputs_hidden": false
    },
    "pycharm": {
     "name": "#%%\n"
    }
   },
   "outputs": [],
   "source": [
    "# Vetor não ordenado\n",
    "\n",
    "class VetorNaoOrdenado:\n",
    "\n",
    "    def __init__(self, capacidade):\n",
    "        self.capacidade = capacidade\n",
    "        self.ultima_pos = -1 # Iremos incrementar esse atributo a cada vez que adicionarmos um valor na array\n",
    "        self.valores = np.empty(self.capacidade, dtype=int) # Retorna um array baseado no formato e no tipo que você passar\n",
    "\n",
    "    # O(n)\n",
    "    def listar_valores(self):\n",
    "        if self.ultima_pos ==  -1:\n",
    "            print('Vetor está vazio')\n",
    "        else:\n",
    "            for i in range(self.ultima_pos+1):\n",
    "                print(i, '-', self.valores[i])\n",
    "\n",
    "\n",
    "    # O(1) - O(2), independente do valor que passarmos, o número de passos será o mesmo\n",
    "    def inserir(self, valor):\n",
    "        if self.ultima_pos == self.capacidade - 1:\n",
    "            print('capacidade maxima atingida')\n",
    "        else:\n",
    "            self.ultima_pos += 1\n",
    "            self.valores[self.ultima_pos] = valor\n",
    "            \n",
    "\n",
    "    # O(n) -> Ele vai executar linearmente de acordo com as entradas que você passar\n",
    "    def pesquisar_valor(self, valor):\n",
    "        for i in range(self.ultima_pos+1):\n",
    "            if valor == self.valores[i]:\n",
    "                return i\n",
    "        return -1\n",
    "\n",
    "\n",
    "    # O(n)\n",
    "    def excluir_valor(self, valor):\n",
    "        indice_valor = self.pesquisar_valor(valor)\n",
    "        if indice_valor != -1:\n",
    "\n",
    "            for i in range(indice_valor, self.ultima_pos):\n",
    "                self.valores[i] = self.valores[i+1]\n",
    "            self.ultima_pos -= 1\n",
    "\n",
    "        else:\n",
    "            print('Valor não encontrado')\n",
    "            return -1\n",
    "                \n"
   ]
  },
  {
   "cell_type": "code",
   "execution_count": 3,
   "metadata": {
    "collapsed": false,
    "jupyter": {
     "outputs_hidden": false
    },
    "pycharm": {
     "name": "#%%\n"
    }
   },
   "outputs": [],
   "source": [
    "v = VetorNaoOrdenado(5)\n",
    "v.inserir(18)\n",
    "v.inserir(25)\n",
    "v.inserir(17)\n",
    "v.inserir(75)\n",
    "v.inserir(20)\n"
   ]
  },
  {
   "cell_type": "code",
   "execution_count": 11,
   "metadata": {
    "collapsed": false,
    "jupyter": {
     "outputs_hidden": false
    },
    "pycharm": {
     "name": "#%%\n"
    }
   },
   "outputs": [
    {
     "name": "stdout",
     "output_type": "stream",
     "text": [
      "0 - 18\n",
      "1 - 25\n",
      "2 - 17\n",
      "3 - 75\n",
      "4 - 20\n"
     ]
    }
   ],
   "source": [
    "v.listar_valores()"
   ]
  },
  {
   "cell_type": "code",
   "execution_count": null,
   "metadata": {
    "collapsed": false,
    "jupyter": {
     "outputs_hidden": false
    },
    "pycharm": {
     "name": "#%%\n"
    }
   },
   "outputs": [],
   "source": []
  },
  {
   "cell_type": "code",
   "execution_count": null,
   "metadata": {
    "collapsed": false,
    "jupyter": {
     "outputs_hidden": false
    },
    "pycharm": {
     "name": "#%%\n"
    }
   },
   "outputs": [],
   "source": []
  },
  {
   "cell_type": "code",
   "execution_count": 12,
   "metadata": {
    "collapsed": false,
    "jupyter": {
     "outputs_hidden": false
    },
    "pycharm": {
     "name": "#%%\n"
    }
   },
   "outputs": [],
   "source": [
    "\n",
    "def shell_sort(vetor):\n",
    "    intervalo = vetor.capacidade // 2\n",
    "\n",
    "    while intervalo > 0:\n",
    "        for i in range(intervalo, vetor.capacidade):\n",
    "            temp = vetor.valores[i]\n",
    "            j = i\n",
    "            while j>=intervalo and vetor.valores[j-intervalo] > temp:\n",
    "                vetor.valores[j] = vetor.valores[j-intervalo]\n",
    "\n",
    "                j -= intervalo\n",
    "                \n",
    "            vetor.valores[j] = temp\n",
    "\n",
    "        intervalo //= 2\n",
    "    return vetor\n",
    "\n",
    "            \n",
    "            \n",
    "        "
   ]
  },
  {
   "cell_type": "code",
   "execution_count": 13,
   "metadata": {
    "collapsed": false,
    "jupyter": {
     "outputs_hidden": false
    },
    "pycharm": {
     "name": "#%%\n"
    }
   },
   "outputs": [
    {
     "name": "stdout",
     "output_type": "stream",
     "text": [
      "0 - 17\n",
      "1 - 18\n",
      "2 - 20\n",
      "3 - 25\n",
      "4 - 75\n"
     ]
    }
   ],
   "source": [
    "shell_sort(v).listar_valores()"
   ]
  },
  {
   "cell_type": "code",
   "execution_count": null,
   "metadata": {
    "collapsed": false,
    "jupyter": {
     "outputs_hidden": false
    },
    "pycharm": {
     "name": "#%%\n"
    }
   },
   "outputs": [],
   "source": []
  },
  {
   "cell_type": "code",
   "execution_count": null,
   "metadata": {
    "collapsed": false,
    "jupyter": {
     "outputs_hidden": false
    },
    "pycharm": {
     "name": "#%%\n"
    }
   },
   "outputs": [],
   "source": []
  },
  {
   "cell_type": "code",
   "execution_count": null,
   "metadata": {
    "collapsed": false,
    "jupyter": {
     "outputs_hidden": false
    },
    "pycharm": {
     "name": "#%%\n"
    }
   },
   "outputs": [],
   "source": []
  },
  {
   "cell_type": "code",
   "execution_count": null,
   "metadata": {
    "collapsed": false,
    "jupyter": {
     "outputs_hidden": false
    },
    "pycharm": {
     "name": "#%%\n"
    }
   },
   "outputs": [],
   "source": []
  },
  {
   "cell_type": "code",
   "execution_count": null,
   "metadata": {
    "pycharm": {
     "name": "#%%\n"
    }
   },
   "outputs": [],
   "source": []
  },
  {
   "cell_type": "code",
   "execution_count": null,
   "metadata": {
    "pycharm": {
     "name": "#%%\n"
    }
   },
   "outputs": [],
   "source": []
  },
  {
   "cell_type": "code",
   "execution_count": null,
   "metadata": {
    "pycharm": {
     "name": "#%%\n"
    }
   },
   "outputs": [],
   "source": []
  },
  {
   "cell_type": "code",
   "execution_count": null,
   "metadata": {
    "pycharm": {
     "name": "#%%\n"
    }
   },
   "outputs": [],
   "source": []
  },
  {
   "cell_type": "code",
   "execution_count": null,
   "metadata": {
    "pycharm": {
     "name": "#%%\n"
    }
   },
   "outputs": [],
   "source": []
  }
 ],
 "metadata": {
  "kernelspec": {
   "display_name": "Python 3 (ipykernel)",
   "language": "python",
   "name": "python3"
  },
  "language_info": {
   "codemirror_mode": {
    "name": "ipython",
    "version": 3
   },
   "file_extension": ".py",
   "mimetype": "text/x-python",
   "name": "python",
   "nbconvert_exporter": "python",
   "pygments_lexer": "ipython3",
   "version": "3.11.0"
  }
 },
 "nbformat": 4,
 "nbformat_minor": 4
}
