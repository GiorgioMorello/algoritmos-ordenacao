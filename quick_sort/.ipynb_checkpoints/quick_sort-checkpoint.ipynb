{
 "cells": [
  {
   "cell_type": "code",
   "execution_count": 5,
   "metadata": {
    "pycharm": {
     "name": "#%%\n"
    }
   },
   "outputs": [],
   "source": [
    "import numpy as np"
   ]
  },
  {
   "cell_type": "code",
   "execution_count": 26,
   "metadata": {},
   "outputs": [],
   "source": [
    "\n",
    "\n",
    "def particao(vetor, inicio, final):     \n",
    "    pivo = vetor[final] # O pivô é o último elemento do vetor\n",
    "    i = inicio - 1 # Inicializa o índice para a posição antes do início do vetor\n",
    "\n",
    "    for j in range(inicio, final): # percorrer o vetor do inicio até o ultimo elemento\n",
    "        if vetor[j] <= pivo: \n",
    "            i+=1 \n",
    "            vetor[i], vetor[j] = vetor[j], vetor[i]  #Trocar os elementos para colocar os menores à esquerda do pivô\n",
    "\n",
    "    vetor[i+1], vetor[final] = vetor[final], vetor[i+1] # Colocar o elemento pivo na posição correta \n",
    "    return i+1 # Retornar a posição do pivo\n",
    "\n",
    "\n",
    "    "
   ]
  },
  {
   "cell_type": "code",
   "execution_count": 27,
   "metadata": {},
   "outputs": [],
   "source": [
    "def quick_sort(vetor, inicio, final):\n",
    "    if inicio < final: # Verifica se ha mais de um elemento no intervalo que estamos considerando.\n",
    "        posicao = particao(vetor, inicio, final) # Realiza a partição e obtém a posição do pivô\n",
    "        \n",
    "        quick_sort(vetor, inicio, posicao-1) # Ordernar a parte esquerda do vetor\n",
    "\n",
    "        quick_sort(vetor, posicao+1, final) # Ordernar a parte direita do vetor\n",
    "\n",
    "        return vetor"
   ]
  },
  {
   "cell_type": "code",
   "execution_count": 19,
   "metadata": {},
   "outputs": [],
   "source": [
    "v = np.array([8,7,6,5])"
   ]
  },
  {
   "cell_type": "code",
   "execution_count": 23,
   "metadata": {},
   "outputs": [
    {
     "data": {
      "text/plain": [
       "array([5, 6, 7, 8])"
      ]
     },
     "execution_count": 23,
     "metadata": {},
     "output_type": "execute_result"
    }
   ],
   "source": [
    "quick_sort(v, 0, len(v)-1)"
   ]
  },
  {
   "cell_type": "code",
   "execution_count": null,
   "metadata": {},
   "outputs": [],
   "source": []
  },
  {
   "cell_type": "code",
   "execution_count": null,
   "metadata": {},
   "outputs": [],
   "source": []
  },
  {
   "cell_type": "code",
   "execution_count": null,
   "metadata": {},
   "outputs": [],
   "source": []
  },
  {
   "cell_type": "code",
   "execution_count": null,
   "metadata": {},
   "outputs": [],
   "source": []
  },
  {
   "cell_type": "code",
   "execution_count": 21,
   "metadata": {},
   "outputs": [],
   "source": [
    "def particao(vetor, inicio, final):\n",
    "    pivo = vetor[final]\n",
    "\n",
    "    i = inicio -1\n",
    "    for j in range(inicio, final):\n",
    "        if vetor[j] <= pivo:\n",
    "            i+=1\n",
    "            vetor[i], vetor[j] = vetor[j], vetor[i]\n",
    "\n",
    "    vetor[i+1], vetor[final] = vetor[final], vetor[i+1]\n",
    "    return i+1\n",
    "        "
   ]
  },
  {
   "cell_type": "code",
   "execution_count": 22,
   "metadata": {},
   "outputs": [],
   "source": [
    "def quick_sort(vetor, inicio, final):\n",
    "    if inicio < final:\n",
    "\n",
    "        posicao = particao(vetor, inicio, final)\n",
    "\n",
    "        quick_sort(vetor, inicio, posicao-1)\n",
    "        quick_sort(vetor, inicio+1, final)\n",
    "    return vetor"
   ]
  },
  {
   "cell_type": "code",
   "execution_count": 24,
   "metadata": {},
   "outputs": [
    {
     "data": {
      "text/plain": [
       "array([ 0,  1,  2,  3,  4,  5,  6,  7,  8,  9, 10])"
      ]
     },
     "execution_count": 24,
     "metadata": {},
     "output_type": "execute_result"
    }
   ],
   "source": [
    "v = np.array([0,1,2,3,4,5,6,7,8,9,10])\n",
    "quick_sort(v, 0, len(v)-1)"
   ]
  },
  {
   "cell_type": "code",
   "execution_count": null,
   "metadata": {},
   "outputs": [],
   "source": []
  },
  {
   "cell_type": "code",
   "execution_count": null,
   "metadata": {},
   "outputs": [],
   "source": []
  },
  {
   "cell_type": "code",
   "execution_count": null,
   "metadata": {},
   "outputs": [],
   "source": []
  },
  {
   "cell_type": "code",
   "execution_count": null,
   "metadata": {},
   "outputs": [],
   "source": []
  },
  {
   "cell_type": "code",
   "execution_count": null,
   "metadata": {},
   "outputs": [],
   "source": []
  },
  {
   "cell_type": "code",
   "execution_count": null,
   "metadata": {},
   "outputs": [],
   "source": []
  },
  {
   "cell_type": "code",
   "execution_count": null,
   "metadata": {},
   "outputs": [],
   "source": []
  }
 ],
 "metadata": {
  "kernelspec": {
   "display_name": "Python 3 (ipykernel)",
   "language": "python",
   "name": "python3"
  },
  "language_info": {
   "codemirror_mode": {
    "name": "ipython",
    "version": 3
   },
   "file_extension": ".py",
   "mimetype": "text/x-python",
   "name": "python",
   "nbconvert_exporter": "python",
   "pygments_lexer": "ipython3",
   "version": "3.11.0"
  }
 },
 "nbformat": 4,
 "nbformat_minor": 4
}
